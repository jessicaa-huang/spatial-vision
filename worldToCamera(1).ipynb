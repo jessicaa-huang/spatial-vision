{
  "nbformat": 4,
  "nbformat_minor": 0,
  "metadata": {
    "colab": {
      "provenance": []
    },
    "kernelspec": {
      "name": "python3",
      "display_name": "Python 3"
    },
    "language_info": {
      "name": "python"
    }
  },
  "cells": [
    {
      "cell_type": "markdown",
      "source": [
        "# **Converting 3D World Coord (from Blender) to 2D pixel coord of Local Camera**\n",
        "Math concepts from https://www.scratchapixel.com/lessons/3d-basic-rendering/computing-pixel-coordinates-of-3d-point/mathematics-computing-2d-coordinates-of-3d-points.html"
      ],
      "metadata": {
        "id": "3UrcDiaYRWgd"
      }
    },
    {
      "cell_type": "code",
      "execution_count": 139,
      "metadata": {
        "id": "6hR3bk7ZYS9U"
      },
      "outputs": [],
      "source": [
        "import cv2\n",
        "import matplotlib.pyplot as plt\n",
        "import numpy as np\n",
        "import math\n",
        "%matplotlib inline"
      ]
    },
    {
      "cell_type": "markdown",
      "source": [
        "# Reading Data from Textfiles imported from Blender"
      ],
      "metadata": {
        "id": "0bc8aaMSR9vc"
      }
    },
    {
      "cell_type": "code",
      "source": [
        "# grabs Euler rotation values from txt file, returns array [angle x, angle y, angle z]\n",
        "def grabRotationValues(txtfile):\n",
        "  # read in file's content\n",
        "  file = open(txtfile, \"r\")\n",
        "  contentArr = []\n",
        "\n",
        "  while True:\n",
        "    content = file.readline()\n",
        "    contentArr.append(content.split(\"#\"))\n",
        "    if not content:\n",
        "      break\n",
        "\n",
        "  rMatrix = []\n",
        "  # split 3 x,y,z values for rotation\n",
        "  for i in range(1, len(contentArr) - 1):\n",
        "    rMatrix.append((contentArr[i][2].split(\",\")))\n",
        "\n",
        "  for j in range(len(rMatrix)):\n",
        "    for m in range(3):\n",
        "      rMatrix[j][m] = float(rMatrix[j][m])\n",
        "\n",
        "  return rMatrix"
      ],
      "metadata": {
        "id": "zbsO2kKFxdtB"
      },
      "execution_count": 140,
      "outputs": []
    },
    {
      "cell_type": "code",
      "source": [
        "# grabs camera translation from txtfile and returns [x,y,z]\n",
        "def makeCameraTranslation(txtfile):\n",
        "  # read in file's content\n",
        "  file = open(txtfile, \"r\")\n",
        "  contentArr = []\n",
        "\n",
        "  while True:\n",
        "    content = file.readline()\n",
        "    contentArr.append(content.split(\"#\"))\n",
        "    if not content:\n",
        "      break\n",
        "\n",
        "  # make Camera Translation matrix\n",
        "  camTranslation = []\n",
        "\n",
        "  # split 3 x,y,z values for translation & rotation\n",
        "  for i in range(1, len(contentArr) - 1):\n",
        "    camTranslation.append((contentArr[i][1].split(\",\")))\n",
        "\n",
        "  for j in range(len(camTranslation)):\n",
        "    for m in range(3):\n",
        "      camTranslation[j][m] = float(camTranslation[j][m])\n",
        "\n",
        "  return camTranslation"
      ],
      "metadata": {
        "id": "DyRAFEe749x1"
      },
      "execution_count": 141,
      "outputs": []
    },
    {
      "cell_type": "markdown",
      "source": [
        "# Main Function -- creates worldToCamera Matrix + cameraToWorld\n",
        "Returns pScreen, NON-normalized 2D coordinate in camera view;\n",
        "Returns pNormalized, Normalized 2D coordinate in camera view"
      ],
      "metadata": {
        "id": "tBFzbjDZSINF"
      }
    },
    {
      "cell_type": "code",
      "source": [
        "def worldToCam(rotationMatrix, cameraTranslation, pWorld):\n",
        "  cameraToWorld = np.zeros((4,4))\n",
        "  lastColumn = [0,0,0,1]\n",
        "\n",
        "  for i in range(3):\n",
        "    for j in range(3):\n",
        "        cameraToWorld[i][j] = rotationMatrix[i][j]\n",
        "    cameraToWorld[3][i] = cameraTranslation[i]\n",
        "\n",
        "  for m in range(4):\n",
        "      cameraToWorld[m][3] = lastColumn[m]\n",
        "\n",
        "  worldToCamera = np.linalg.inv(cameraToWorld)\n",
        "\n",
        "  # pCamera = np.matmul(worldToCamera, np.transpose(pWorld))\n",
        "  pCamera = np.matmul(pWorld, worldToCamera)\n",
        "\n",
        "  pScreen = [0,0]\n",
        "  pNormalized = [0,0]\n",
        "\n",
        "  pScreen = [pCamera[0] / -pCamera[2], pCamera[1] / -pCamera[2]]\n",
        "\n",
        "  # <-maxValue--------0---------maxValue->\n",
        "  # 2 * maxValue = width of screen = 1080\n",
        "  # 1080/(2 * maxValue) = pixel/blenderUnit\n",
        "  # multiply by pScreen (blenderUnit), add offset of 540px\n",
        "\n",
        "  maxValue = (540*0.3/460)\n",
        "\n",
        "  pNormalized[0] = math.floor(540 + pScreen[0] * 1080/(2*maxValue))\n",
        "  pNormalized[1] = math.floor(540 + pScreen[1] * 1080/(2*maxValue))\n",
        "\n",
        "  return (pScreen, pNormalized)"
      ],
      "metadata": {
        "id": "aS8-yLn1w9Ug"
      },
      "execution_count": 142,
      "outputs": []
    },
    {
      "cell_type": "markdown",
      "source": [
        "Converts Euler angles from Blender into 3x3 rotation matrix"
      ],
      "metadata": {
        "id": "i6Sz6ryzSdk0"
      }
    },
    {
      "cell_type": "code",
      "source": [
        "# this function converts one array [x-angle, y-angle, z-angle] to its corresponding rotation matrix\n",
        "def eulerToRotation(x, y, z):\n",
        "  \"\"\" x is the Euler x-angle, often notated as psi\n",
        "      y is the Euler y-angle, often notated as theta\n",
        "      z is the Euler z-angle, often notated as phi\n",
        "      all angles are in radians\n",
        "      math from https://eecs.qmul.ac.uk/~gslabaugh/publications/euler.pdf\n",
        "  \"\"\"\n",
        "  # import math\n",
        "  # import numpy as np\n",
        "\n",
        "  # Rx = [[1, 0, 0],\n",
        "  #       [0, math.cos(x), -math.sin(x)],\n",
        "  #       [0, math.sin(x), math.cos(x)]]\n",
        "\n",
        "  # Ry = [[math.cos(y), 0, math.sin(y)],\n",
        "  #       [0, 1, 0],\n",
        "  #       [-math.sin(y), 0, math.cos(y)]]\n",
        "\n",
        "  # Rz = [[math.cos(z), -math.sin(z), 0],\n",
        "  #       [math.sin(z), math.cos(z), 0],\n",
        "  #       [0, 0, 1]]\n",
        "\n",
        "  # rotMatrix = np.matmul((np.matmul(Rx, Ry)), Rz)\n",
        "\n",
        "  # Scipy library https://docs.scipy.org/doc/scipy/reference/generated/scipy.spatial.transform.Rotation.from_euler.html\n",
        "  from scipy.spatial.transform import Rotation as R\n",
        "  rotMatrix = R.from_euler('xyz', [x,y,z])\n",
        "\n",
        "  return rotMatrix.as_matrix()"
      ],
      "metadata": {
        "id": "s0Deeo2i7FXV"
      },
      "execution_count": 143,
      "outputs": []
    },
    {
      "cell_type": "code",
      "source": [
        "def createRotMatrix(eulerAngleMatrix):\n",
        "  resultRotMatrix = []\n",
        "  for i in eulerAngleMatrix:\n",
        "    resultRotMatrix.append(eulerToRotation(i[0], i[1], i[2]))\n",
        "  return resultRotMatrix"
      ],
      "metadata": {
        "id": "bgtqbG1sfBx8"
      },
      "execution_count": 144,
      "outputs": []
    },
    {
      "cell_type": "code",
      "source": [
        "def main(file_name, object_file, num_frame):\n",
        "  filename = file_name\n",
        "  object_filename = object_file\n",
        "  num_frames = num_frame\n",
        "\n",
        "  # camTranslation format [[x,y,z], [x,y,z], ...]\n",
        "  camTranslation = makeCameraTranslation(filename)\n",
        "\n",
        "  # eulerRotation format in Euler RADIANS [[x-angle, y-angle, z-angle], ...]\n",
        "  eulerRotation = grabRotationValues(filename)\n",
        "\n",
        "  # create rotation matrix for every frame\n",
        "  rotMatrix = createRotMatrix(eulerRotation)\n",
        "\n",
        "  # pWorld is the coordinate of main object in world view\n",
        "  pWorld = makeCameraTranslation(object_filename)\n",
        "\n",
        "  # pScreen should be array of [[x,y], [x,y], ...]\n",
        "  pScreen = []\n",
        "  pNormalized = []\n",
        "  for i in range(num_frames):\n",
        "    pWorld_i = pWorld[i] + [1]\n",
        "    pScreen.append(worldToCam(rotMatrix[i], camTranslation[i], pWorld_i)[0])\n",
        "    pNormalized.append(worldToCam(rotMatrix[i], camTranslation[i], pWorld_i)[1])\n",
        "\n",
        "  print(filename, \"\\n\", pNormalized, \"\\n\")\n",
        "  # print(pScreen)"
      ],
      "metadata": {
        "id": "ey3f4nar2aj9"
      },
      "execution_count": 145,
      "outputs": []
    },
    {
      "cell_type": "code",
      "source": [
        "main(\"camera_horiz_position.txt\", \"object_position.txt\", 100)     # ball right -> left\n",
        "main(\"camera_position.txt\", \"object_position.txt\", 100)           # ball down -> up\n",
        "main(\"off_camera_position.txt\", \"object_position.txt\", 100)       # off center ball bottom -> up\n",
        "main(\"left_right_offcenter_cam.txt\", \"object_position.txt\", 100)  # off center ball left -> right\n",
        "\n",
        "main(\"box_updown_cam.txt\", \"object_position.txt\", 100)            # off center cube down -> up\n",
        "main(\"box_up_down.txt\", \"object_position.txt\", 100)            # off center cube down -> up\n",
        "\n",
        "\n",
        "# main(\"diag_camera_position.txt\", \"object_position.txt\", 100)\n",
        "# main(\"sword_camera_position.txt\", \"sword_position.txt\", 100)\n",
        "# main(\"sword_diagonal_position.txt\", \"sword_position.txt\", 100)\n"
      ],
      "metadata": {
        "colab": {
          "base_uri": "https://localhost:8080/"
        },
        "id": "pSnhivWh-X_D",
        "outputId": "6be477e9-c9ca-43b6-dc97-8614d648d19a"
      },
      "execution_count": 146,
      "outputs": [
        {
          "output_type": "stream",
          "name": "stdout",
          "text": [
            "camera_horiz_position.txt \n",
            " [[1000, 540], [990, 540], [981, 540], [972, 540], [963, 540], [954, 540], [944, 540], [935, 540], [926, 540], [917, 540], [908, 540], [898, 540], [889, 540], [880, 540], [871, 540], [862, 540], [852, 540], [843, 540], [834, 540], [825, 540], [816, 540], [806, 540], [797, 540], [788, 540], [779, 540], [770, 540], [760, 540], [751, 540], [742, 540], [733, 540], [724, 540], [714, 540], [705, 540], [696, 540], [687, 540], [678, 540], [668, 540], [659, 540], [650, 540], [641, 540], [632, 540], [622, 540], [613, 540], [604, 540], [595, 540], [586, 540], [576, 540], [567, 540], [558, 540], [549, 540], [540, 540], [530, 540], [521, 540], [512, 540], [503, 540], [494, 540], [484, 540], [475, 540], [466, 540], [457, 540], [448, 540], [438, 540], [429, 540], [420, 540], [411, 540], [402, 540], [392, 540], [383, 540], [374, 540], [365, 540], [356, 540], [346, 540], [337, 540], [328, 540], [319, 540], [310, 540], [300, 540], [291, 540], [282, 540], [273, 540], [264, 540], [254, 540], [245, 540], [236, 540], [227, 540], [218, 540], [208, 540], [199, 540], [190, 540], [181, 540], [172, 540], [162, 540], [153, 540], [144, 540], [135, 540], [126, 540], [116, 540], [107, 540], [98, 540], [89, 540]] \n",
            "\n",
            "camera_position.txt \n",
            " [[539, 1000], [539, 990], [539, 981], [539, 972], [539, 963], [539, 954], [539, 944], [539, 935], [539, 926], [539, 917], [539, 908], [539, 898], [539, 889], [539, 880], [539, 871], [539, 862], [539, 852], [539, 843], [539, 834], [539, 825], [539, 816], [539, 806], [539, 797], [539, 788], [539, 779], [539, 770], [539, 760], [539, 751], [539, 742], [539, 733], [539, 724], [539, 714], [539, 705], [539, 696], [539, 687], [539, 678], [539, 668], [539, 659], [539, 650], [539, 641], [539, 632], [539, 622], [539, 613], [539, 604], [539, 595], [539, 586], [539, 576], [539, 567], [539, 558], [539, 549], [539, 540], [540, 530], [540, 521], [540, 512], [540, 503], [540, 494], [540, 484], [540, 475], [540, 466], [540, 457], [540, 448], [540, 438], [540, 429], [540, 420], [540, 411], [540, 402], [540, 392], [540, 383], [540, 374], [540, 365], [540, 356], [540, 346], [540, 337], [540, 328], [540, 319], [540, 310], [540, 300], [540, 291], [540, 282], [540, 273], [540, 264], [540, 254], [540, 245], [540, 236], [540, 227], [540, 218], [540, 208], [540, 199], [540, 190], [540, 181], [540, 172], [540, 162], [540, 153], [540, 144], [540, 135], [540, 126], [540, 116], [540, 107], [540, 98], [540, 89]] \n",
            "\n",
            "off_camera_position.txt \n",
            " [[846, 1000], [846, 990], [846, 981], [846, 972], [846, 963], [846, 954], [846, 944], [846, 935], [846, 926], [846, 917], [846, 908], [846, 898], [846, 889], [846, 880], [846, 871], [846, 862], [846, 852], [846, 843], [846, 834], [846, 825], [846, 816], [846, 806], [846, 797], [846, 788], [846, 779], [846, 770], [846, 760], [846, 751], [846, 742], [846, 733], [846, 724], [846, 714], [846, 705], [846, 696], [846, 687], [846, 678], [846, 668], [846, 659], [846, 650], [846, 641], [846, 632], [846, 622], [846, 613], [846, 604], [846, 595], [846, 586], [846, 576], [846, 567], [846, 558], [846, 549], [846, 540], [846, 530], [846, 521], [846, 512], [846, 503], [846, 494], [846, 484], [846, 475], [846, 466], [846, 457], [846, 448], [846, 438], [846, 429], [846, 420], [846, 411], [846, 402], [846, 392], [846, 383], [846, 374], [846, 365], [846, 356], [846, 346], [846, 337], [846, 328], [846, 319], [846, 310], [846, 300], [846, 291], [846, 282], [846, 273], [846, 264], [846, 254], [846, 245], [846, 236], [846, 227], [846, 218], [846, 208], [846, 199], [846, 190], [846, 181], [846, 172], [846, 162], [846, 153], [846, 144], [846, 135], [846, 126], [846, 116], [846, 107], [846, 98], [846, 89]] \n",
            "\n",
            "left_right_offcenter_cam.txt \n",
            " [[80, 233], [89, 233], [98, 233], [107, 233], [116, 233], [126, 233], [135, 233], [144, 233], [153, 233], [162, 233], [172, 233], [181, 233], [190, 233], [199, 233], [208, 233], [218, 233], [227, 233], [236, 233], [245, 233], [254, 233], [264, 233], [273, 233], [282, 233], [291, 233], [300, 233], [310, 233], [319, 233], [328, 233], [337, 233], [346, 233], [356, 233], [365, 233], [374, 233], [383, 233], [392, 233], [402, 233], [411, 233], [420, 233], [429, 233], [438, 233], [448, 233], [457, 233], [466, 233], [475, 233], [484, 233], [494, 233], [503, 233], [512, 233], [521, 233], [530, 233], [540, 233], [549, 233], [558, 233], [567, 233], [576, 233], [586, 233], [595, 233], [604, 233], [613, 233], [622, 233], [632, 233], [641, 233], [650, 233], [659, 233], [668, 233], [677, 233], [687, 233], [696, 233], [705, 233], [714, 233], [724, 233], [733, 233], [742, 233], [751, 233], [760, 233], [769, 233], [779, 233], [788, 233], [797, 233], [806, 233], [815, 233], [825, 233], [834, 233], [843, 233], [852, 233], [862, 233], [871, 233], [880, 233], [889, 233], [898, 233], [907, 233], [917, 233], [926, 233], [935, 233], [944, 233], [954, 233], [963, 233], [972, 233], [981, 233], [990, 233]] \n",
            "\n",
            "box_updown_cam.txt \n",
            " [[693, 1000], [693, 990], [693, 981], [693, 972], [693, 963], [693, 954], [693, 944], [693, 935], [693, 926], [693, 917], [693, 908], [693, 898], [693, 889], [693, 880], [693, 871], [693, 862], [693, 852], [693, 843], [693, 834], [693, 825], [693, 816], [693, 806], [693, 797], [693, 788], [693, 779], [693, 770], [693, 760], [693, 751], [693, 742], [693, 733], [693, 724], [693, 714], [693, 705], [693, 696], [693, 687], [693, 678], [693, 668], [693, 659], [693, 650], [693, 641], [693, 632], [693, 622], [693, 613], [693, 604], [693, 595], [693, 586], [693, 576], [693, 567], [693, 558], [693, 549], [693, 540], [693, 530], [693, 521], [693, 512], [693, 503], [693, 494], [693, 484], [693, 475], [693, 466], [693, 457], [693, 448], [693, 438], [693, 429], [693, 420], [693, 411], [693, 402], [693, 392], [693, 383], [693, 374], [693, 365], [693, 356], [693, 346], [693, 337], [693, 328], [693, 319], [693, 310], [693, 300], [693, 291], [693, 282], [693, 273], [693, 264], [693, 254], [693, 245], [693, 236], [693, 227], [693, 218], [693, 208], [693, 199], [693, 190], [693, 181], [693, 172], [693, 162], [693, 153], [693, 144], [693, 135], [693, 126], [693, 116], [693, 107], [693, 98], [693, 89]] \n",
            "\n",
            "box_up_down.txt \n",
            " [[386, 79], [386, 89], [386, 98], [386, 107], [386, 116], [386, 125], [386, 135], [386, 144], [386, 153], [386, 162], [386, 171], [386, 181], [386, 190], [386, 199], [386, 208], [386, 217], [386, 227], [386, 236], [386, 245], [386, 254], [386, 263], [386, 273], [386, 282], [386, 291], [386, 300], [386, 309], [386, 319], [386, 328], [386, 337], [386, 346], [386, 355], [386, 365], [386, 374], [386, 383], [386, 392], [386, 401], [386, 411], [386, 420], [386, 429], [386, 438], [386, 447], [386, 457], [386, 466], [386, 475], [386, 484], [386, 493], [386, 503], [386, 512], [386, 521], [386, 530], [386, 539], [386, 549], [386, 558], [386, 567], [386, 576], [386, 585], [386, 595], [386, 604], [386, 613], [386, 622], [386, 631], [386, 641], [386, 650], [386, 659], [386, 668], [386, 677], [386, 687], [386, 696], [386, 705], [386, 714], [386, 723], [386, 733], [386, 742], [386, 751], [386, 760], [386, 769], [386, 779], [386, 788], [386, 797], [386, 806], [386, 815], [386, 825], [386, 834], [386, 843], [386, 852], [386, 861], [386, 871], [386, 880], [386, 889], [386, 898], [386, 907], [386, 917], [386, 926], [386, 935], [386, 944], [386, 953], [386, 963], [386, 972], [386, 981], [386, 990]] \n",
            "\n"
          ]
        }
      ]
    }
  ]
}