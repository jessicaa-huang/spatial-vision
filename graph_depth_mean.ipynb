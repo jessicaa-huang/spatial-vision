{
  "nbformat": 4,
  "nbformat_minor": 0,
  "metadata": {
    "colab": {
      "provenance": [],
      "authorship_tag": "ABX9TyPIrfOAQE0PGruNezKkJLj1",
      "include_colab_link": true
    },
    "kernelspec": {
      "name": "python3",
      "display_name": "Python 3"
    },
    "language_info": {
      "name": "python"
    }
  },
  "cells": [
    {
      "cell_type": "markdown",
      "metadata": {
        "id": "view-in-github",
        "colab_type": "text"
      },
      "source": [
        "<a href=\"https://colab.research.google.com/github/jessicaa-huang/spatial-vision/blob/main/graph_depth_mean.ipynb\" target=\"_parent\"><img src=\"https://colab.research.google.com/assets/colab-badge.svg\" alt=\"Open In Colab\"/></a>"
      ]
    },
    {
      "cell_type": "code",
      "execution_count": 12,
      "metadata": {
        "id": "_L9Pv3-eeYIE"
      },
      "outputs": [],
      "source": [
        "import xml.etree.ElementTree as ET\n",
        "import cv2\n",
        "import matplotlib.pyplot as plt\n",
        "import numpy as np\n",
        "import math\n",
        "\n",
        "%matplotlib inline"
      ]
    },
    {
      "cell_type": "markdown",
      "source": [
        "# Variable Inputs/Files"
      ],
      "metadata": {
        "id": "akKJYwMK9HkB"
      }
    },
    {
      "cell_type": "code",
      "source": [
        "# Variable Inputs\n",
        "annotatedFileName = 'sword_panover_annotated.xml'\n",
        "title = \"Sword Pan Over Depth\"\n",
        "\n",
        "# path to depth npy files\n",
        "depth_path = '/content/depth/0'\n",
        "depth_fend = '_depth.npy'\n",
        "\n",
        "# Position of Camera + sword\n",
        "# Location 1 - Pommel\n",
        "camPos1 = \"sword_camera_position.txt\"\n",
        "objPos1 = \"sword_panover_pommel.txt\"\n",
        "\n",
        "# Location 2 - Handle\n",
        "camPos2 = \"sword_camera_position.txt\"\n",
        "objPos2 = \"sword_panover_handle.txt\"\n",
        "\n",
        "# Location 3 - Blade\n",
        "camPos3 = \"sword_camera_position.txt\"\n",
        "objPos3 = \"sword_panup_blade.txt\"\n",
        "\n",
        "# Location 4 - Rock\n",
        "camPos4 = \"sword_camera_position.txt\"\n",
        "objPos4 = \"sword_panup_rock.txt\""
      ],
      "metadata": {
        "id": "yy1qxjbtzhfc"
      },
      "execution_count": 13,
      "outputs": []
    },
    {
      "cell_type": "markdown",
      "source": [
        "# Read in xml file from CVAT annotations"
      ],
      "metadata": {
        "id": "msQbIrLzhCPE"
      }
    },
    {
      "cell_type": "code",
      "source": [
        "tree = ET.parse(annotatedFileName)\n",
        "root = tree.getroot()"
      ],
      "metadata": {
        "id": "aqSsKPVcew2b"
      },
      "execution_count": 14,
      "outputs": []
    },
    {
      "cell_type": "code",
      "source": [
        "# List to store box coordinates\n",
        "pommel_bbox = []\n",
        "handle_bbox = []\n",
        "blade_bbox = []\n",
        "rock_bbox = []\n",
        "\n",
        "# Iterate over each <image> element\n",
        "for image in root.findall('image'):\n",
        "    image_name = image.get('name')\n",
        "\n",
        "    # Iterate over each <box> element within the <image>\n",
        "    for box in image.findall('box'):\n",
        "        label = box.get('label')\n",
        "        xtl = int(float(box.get('xtl')))\n",
        "        ytl = int(float(box.get('ytl')))\n",
        "        xbr = int(float(box.get('xbr')))\n",
        "        ybr = int(float(box.get('ybr')))\n",
        "\n",
        "        # Append frame #, coordinates to corresponding bbox list\n",
        "        if label == 'pommel':\n",
        "          pommel_bbox.append([image_name[1:4], [xtl + 1, ytl + 1, xbr, ybr]])\n",
        "        elif label == 'handle':\n",
        "          handle_bbox.append([image_name[1:4], [xtl + 1, ytl + 1, xbr, ybr]])\n",
        "        elif label == 'blade':\n",
        "          blade_bbox.append([image_name[1:4], [xtl + 1, ytl + 1, xbr, ybr]])\n",
        "        elif label == 'rock':\n",
        "          rock_bbox.append([image_name[1:4], [xtl + 1, ytl + 1, xbr, ybr]])\n",
        "\n",
        "# Print the extracted annotations\n",
        "# annotations formatted as [Frame #, Object part, [xmin, ymin, xmax, ymax]]\n",
        "print(pommel_bbox)\n",
        "print(handle_bbox)\n",
        "print(blade_bbox)\n",
        "print(rock_bbox)"
      ],
      "metadata": {
        "colab": {
          "base_uri": "https://localhost:8080/"
        },
        "id": "z9Scicw1e6zo",
        "outputId": "50ecfda1-3302-4855-8ea9-9da9443259f2"
      },
      "execution_count": 15,
      "outputs": [
        {
          "output_type": "stream",
          "name": "stdout",
          "text": [
            "[['001', [538, 395, 543, 400]], ['005', [538, 390, 543, 395]], ['010', [537, 383, 544, 389]], ['015', [537, 377, 543, 382]], ['020', [537, 369, 544, 375]], ['025', [537, 363, 543, 369]], ['030', [536, 357, 543, 365]], ['035', [536, 352, 543, 359]], ['040', [536, 347, 544, 355]], ['045', [537, 345, 544, 352]], ['050', [536, 343, 544, 351]], ['055', [536, 343, 544, 351]], ['060', [537, 346, 543, 351]], ['065', [536, 351, 544, 357]], ['070', [537, 356, 543, 363]], ['075', [537, 364, 543, 371]], ['080', [537, 372, 544, 379]], ['085', [536, 381, 544, 389]], ['090', [537, 394, 543, 399]], ['095', [537, 403, 542, 409]], ['100', [537, 415, 543, 422]]]\n",
            "[['001', [537, 440, 543, 455]], ['005', [536, 436, 544, 453]], ['010', [536, 432, 544, 450]], ['015', [536, 427, 544, 447]], ['020', [536, 422, 544, 443]], ['025', [536, 418, 544, 440]], ['030', [535, 415, 544, 438]], ['035', [535, 411, 545, 435]], ['040', [535, 409, 545, 433]], ['045', [535, 407, 545, 432]], ['050', [535, 407, 545, 433]], ['055', [535, 408, 545, 434]], ['060', [535, 410, 546, 434]], ['065', [535, 414, 545, 438]], ['070', [535, 418, 545, 441]], ['075', [534, 424, 545, 446]], ['080', [535, 431, 545, 450]], ['085', [535, 437, 545, 457]], ['090', [536, 445, 545, 464]], ['095', [535, 451, 544, 469]], ['100', [536, 459, 544, 475]]]\n",
            "[['001', [532, 471, 548, 480]], ['005', [532, 469, 548, 477]], ['010', [532, 465, 548, 472]], ['015', [530, 461, 550, 470]], ['020', [531, 458, 549, 468]], ['025', [530, 456, 550, 466]], ['030', [529, 453, 550, 464]], ['035', [529, 452, 550, 461]], ['040', [529, 450, 551, 461]], ['045', [529, 450, 550, 461]], ['050', [528, 449, 552, 462]], ['055', [529, 451, 552, 464]], ['060', [528, 452, 552, 465]], ['065', [529, 455, 551, 468]], ['070', [529, 458, 551, 471]], ['075', [529, 462, 551, 474]], ['080', [528, 467, 551, 479]], ['085', [529, 472, 551, 484]], ['090', [530, 477, 550, 489]], ['095', [530, 483, 551, 495]], ['100', [532, 488, 551, 501]]]\n",
            "[['001', [559, 655, 582, 662]], ['005', [552, 656, 565, 660]], ['010', [551, 659, 569, 665]], ['015', [552, 663, 569, 669]], ['020', [552, 665, 571, 673]], ['025', [551, 667, 573, 676]], ['030', [552, 669, 573, 679]], ['035', [551, 669, 576, 680]], ['040', [552, 670, 575, 682]], ['045', [552, 668, 579, 680]], ['050', [553, 665, 578, 679]], ['055', [554, 663, 575, 678]], ['060', [553, 657, 573, 676]], ['065', [553, 652, 572, 672]], ['070', [552, 646, 574, 665]], ['075', [553, 641, 575, 659]], ['080', [552, 632, 572, 653]], ['085', [552, 624, 571, 647]], ['090', [552, 619, 573, 638]], ['095', [552, 613, 571, 630]], ['100', [551, 604, 569, 623]]]\n"
          ]
        }
      ]
    },
    {
      "cell_type": "code",
      "source": [
        "def depth_median_mean(bbox):\n",
        "  start_index = '001'\n",
        "  # depth_path = '/content/depth/0'\n",
        "  # depth_fend = '_depth.npy'\n",
        "  size_bbox = len(bbox)\n",
        "\n",
        "  # code to load the depth image\n",
        "  dimg = np.load(depth_path + start_index + depth_fend)\n",
        "\n",
        "  depth_mean = np.zeros((size_bbox,1))\n",
        "  depth_median = np.zeros((size_bbox,1))\n",
        "\n",
        "  for i in range(size_bbox):\n",
        "      index = bbox[i][0]\n",
        "      dimg = np.load(depth_path + index + depth_fend)\n",
        "\n",
        "      i_coords = bbox[i][1]\n",
        "      depth_patch = dimg[i_coords[0]:i_coords[2],i_coords[1]:i_coords[3]]\n",
        "      # print(depth_patch)\n",
        "\n",
        "      depth_mean[i] = np.mean(depth_patch)\n",
        "      depth_median[i] = np.median(depth_patch)\n",
        "  return (depth_mean, depth_median)"
      ],
      "metadata": {
        "id": "wqQ2pfY2o7g1"
      },
      "execution_count": 16,
      "outputs": []
    },
    {
      "cell_type": "code",
      "source": [
        "def normalizeData(data, frameRef):\n",
        "  result = [x/data[frameRef] for x in data]\n",
        "  return result"
      ],
      "metadata": {
        "id": "iXJlGY9psrYf"
      },
      "execution_count": 17,
      "outputs": []
    },
    {
      "cell_type": "code",
      "source": [
        "maxFrameCount = 20\n",
        "(pommel_mean, pommel_median) = depth_median_mean(pommel_bbox)\n",
        "(handle_mean, handle_median) = depth_median_mean(handle_bbox)\n",
        "(blade_mean, blade_median) = depth_median_mean(blade_bbox)\n",
        "(rock_mean, rock_median) = depth_median_mean(rock_bbox)\n",
        "\n",
        "# using max value\n",
        "norm_pommel = normalizeData(pommel_mean, 10)\n",
        "norm_handle = normalizeData(handle_mean, 10)\n",
        "norm_blade = normalizeData(blade_mean, 10)\n",
        "norm_rock = normalizeData(rock_mean, 10)"
      ],
      "metadata": {
        "id": "fTj8SCoOqq6h"
      },
      "execution_count": 18,
      "outputs": []
    },
    {
      "cell_type": "code",
      "source": [
        "# Code from https://stackoverflow.com/questions/51272288/how-to-calculate-the-vector-from-two-points-in-3d-with-python\n",
        "\n",
        "def multiDimenDist(point1,point2):\n",
        "   #find the difference between the two points, its really the same as below\n",
        "   deltaVals = [point2[dimension]-point1[dimension] for dimension in range(len(point1))]\n",
        "   runningSquared = 0\n",
        "   #because the pythagarom theorm works for any dimension we can just use that\n",
        "   for coOrd in deltaVals:\n",
        "       runningSquared += coOrd**2\n",
        "   return runningSquared**(1/2)\n",
        "def findVec(point1,point2,unitSphere = False):\n",
        "  #setting unitSphere to True will make the vector scaled down to a sphere with a radius one, instead of it's orginal length\n",
        "  finalVector = [0 for coOrd in point1]\n",
        "  for dimension, coOrd in enumerate(point1):\n",
        "      #finding total differnce for that co-ordinate(x,y,z...)\n",
        "      deltaCoOrd = point2[dimension]-coOrd\n",
        "      #adding total difference\n",
        "      finalVector[dimension] = deltaCoOrd\n",
        "  if unitSphere:\n",
        "      totalDist = multiDimenDist(point1,point2)\n",
        "      unitVector =[]\n",
        "      for dimen in finalVector:\n",
        "          unitVector.append( dimen/totalDist)\n",
        "      return unitVector\n",
        "  else:\n",
        "      return finalVector\n",
        "\n",
        "# Find real distance between vector camera -> object per frame\n",
        "def magnitude(vector):\n",
        "  return math.sqrt(sum(pow(element, 2) for element in vector))"
      ],
      "metadata": {
        "id": "skzPdKLOm2j5"
      },
      "execution_count": 20,
      "outputs": []
    },
    {
      "cell_type": "markdown",
      "source": [
        "Read Camera and Object's Blender Coordinates"
      ],
      "metadata": {
        "id": "kLIajXbyuzYB"
      }
    },
    {
      "cell_type": "code",
      "source": [
        "# grabs camera translation from txtfile and returns [x,y,z]\n",
        "def makeCameraTranslation(txtfile):\n",
        "  # read in file's content\n",
        "  file = open(txtfile, \"r\")\n",
        "  contentArr = []\n",
        "\n",
        "  while True:\n",
        "    content = file.readline()\n",
        "    contentArr.append(content.split(\"#\"))\n",
        "    if not content:\n",
        "      break\n",
        "\n",
        "  # make Camera Translation matrix\n",
        "  camTranslation = []\n",
        "\n",
        "  # split 3 x,y,z values for translation & rotation\n",
        "  for i in range(1, len(contentArr) - 1):\n",
        "    camTranslation.append((contentArr[i][1].split(\",\")))\n",
        "\n",
        "  for j in range(len(camTranslation)):\n",
        "    for m in range(3):\n",
        "      camTranslation[j][m] = float(camTranslation[j][m])\n",
        "\n",
        "  return camTranslation"
      ],
      "metadata": {
        "id": "CSN7Bqmzm4Qf"
      },
      "execution_count": 21,
      "outputs": []
    },
    {
      "cell_type": "code",
      "source": [
        "def blenderDist(camPos_file, objPos_file):\n",
        "  camPosition = makeCameraTranslation(camPos_file)\n",
        "  objPosition = makeCameraTranslation(objPos_file)\n",
        "\n",
        "  blenderDist = []\n",
        "\n",
        "  for i in range(len(camPosition)):\n",
        "    blenderDist.append(magnitude(findVec(camPosition[i], objPosition[i])))\n",
        "  norm_blender = normalizeData(blenderDist, 50)\n",
        "  return norm_blender\n",
        "\n",
        "dist1 = blenderDist(camPos1, objPos1)\n",
        "dist2 = blenderDist(camPos2, objPos2)\n",
        "dist3 = blenderDist(camPos3, objPos3)\n",
        "dist4 = blenderDist(camPos4, objPos4)"
      ],
      "metadata": {
        "id": "YQlK6SOOu8sC"
      },
      "execution_count": 22,
      "outputs": []
    },
    {
      "cell_type": "code",
      "source": [
        "x = [0, 5, 10, 15, 20, 25, 30, 35, 40, 45, 50, 55, 60, 65, 70, 75, 80, 85, 90, 95, 100]\n",
        "\n",
        "plt.title(title)\n",
        "plt.xlabel('Frame')\n",
        "plt.ylabel('Normalized Depth')\n",
        "\n",
        "# Plot Depth Model's distances as solid lines\n",
        "plt.plot(x[:len(norm_pommel)], norm_pommel, 'r', label='Pommel')\n",
        "plt.plot(x[:len(norm_handle)], norm_handle, 'c', label='Handle')\n",
        "plt.plot(x[:len(norm_blade)], norm_blade, 'g', label='Blade')\n",
        "plt.plot(x[:len(norm_rock)], norm_rock, 'b', label='Rock')\n",
        "\n",
        "# Plot Real Blender Distances as dashed lines\n",
        "plt.plot(dist1, 'r', linestyle='--')\n",
        "plt.plot(dist2, 'c', linestyle='--')\n",
        "plt.plot(dist3, 'g', linestyle='--')\n",
        "plt.plot(dist4, 'b', linestyle='--')\n",
        "\n",
        "# Display legend\n",
        "plt.legend()\n",
        "\n",
        "plt.show()"
      ],
      "metadata": {
        "colab": {
          "base_uri": "https://localhost:8080/",
          "height": 492
        },
        "id": "4M9X9e1ku8ev",
        "outputId": "a4393aa0-f545-4ab2-ad35-240ab3405fe4"
      },
      "execution_count": 38,
      "outputs": [
        {
          "output_type": "display_data",
          "data": {
            "text/plain": [
              "<Figure size 640x480 with 1 Axes>"
            ],
            "image/png": "[encoded data removed]"
          },
          "metadata": {}
        }
      ]
    }
  ]
}