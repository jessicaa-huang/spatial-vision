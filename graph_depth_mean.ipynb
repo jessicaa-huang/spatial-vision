{
  "nbformat": 4,
  "nbformat_minor": 0,
  "metadata": {
    "colab": {
      "provenance": [],
      "authorship_tag": "ABX9TyMGfnxNtnhF0bDjXaQiw901",
      "include_colab_link": true
    },
    "kernelspec": {
      "name": "python3",
      "display_name": "Python 3"
    },
    "language_info": {
      "name": "python"
    }
  },
  "cells": [
    {
      "cell_type": "markdown",
      "metadata": {
        "id": "view-in-github",
        "colab_type": "text"
      },
      "source": [
        "<a href=\"https://colab.research.google.com/github/jessicaa-huang/spatial-vision/blob/main/graph_depth_mean.ipynb\" target=\"_parent\"><img src=\"https://colab.research.google.com/assets/colab-badge.svg\" alt=\"Open In Colab\"/></a>"
      ]
    },
    {
      "cell_type": "markdown",
      "source": [
        "# Read in xml file from CVAT annotations"
      ],
      "metadata": {
        "id": "msQbIrLzhCPE"
      }
    },
    {
      "cell_type": "code",
      "execution_count": null,
      "metadata": {
        "id": "_L9Pv3-eeYIE"
      },
      "outputs": [],
      "source": [
        "import xml.etree.ElementTree as ET\n",
        "import cv2\n",
        "import matplotlib.pyplot as plt\n",
        "import numpy as np\n",
        "\n",
        "%matplotlib inline"
      ]
    },
    {
      "cell_type": "code",
      "source": [
        "tree = ET.parse('annotations.xml')\n",
        "root = tree.getroot()"
      ],
      "metadata": {
        "id": "aqSsKPVcew2b"
      },
      "execution_count": null,
      "outputs": []
    },
    {
      "cell_type": "code",
      "source": [
        "# List to store box coordinates\n",
        "pommel_bbox = []\n",
        "handle_bbox = []\n",
        "blade_bbox = []\n",
        "rock_bbox = []\n",
        "\n",
        "# Iterate over each <image> element\n",
        "for image in root.findall('image'):\n",
        "    image_name = image.get('name')\n",
        "\n",
        "    # Iterate over each <box> element within the <image>\n",
        "    for box in image.findall('box'):\n",
        "        label = box.get('label')\n",
        "        xtl = int(float(box.get('xtl')))\n",
        "        ytl = int(float(box.get('ytl')))\n",
        "        xbr = int(float(box.get('xbr')))\n",
        "        ybr = int(float(box.get('ybr')))\n",
        "\n",
        "        # Append frame #, coordinates to corresponding bbox list\n",
        "        if label == 'pommel':\n",
        "          pommel_bbox.append([image_name[1:4], [xtl + 1, ytl + 1, xbr, ybr]])\n",
        "        elif label == 'handle':\n",
        "          handle_bbox.append([image_name[1:4], [xtl + 1, ytl + 1, xbr, ybr]])\n",
        "        elif label == 'blade':\n",
        "          blade_bbox.append([image_name[1:4], [xtl + 1, ytl + 1, xbr, ybr]])\n",
        "        elif label == 'rock':\n",
        "          rock_bbox.append([image_name[1:4], [xtl + 1, ytl + 1, xbr, ybr]])\n",
        "\n",
        "# Print the extracted annotations\n",
        "# annotations formatted as [Frame #, Object part, [xmin, ymin, xmax, ymax]]\n",
        "print(pommel_bbox)\n",
        "print(handle_bbox)\n",
        "print(blade_bbox)\n",
        "print(rock_bbox)"
      ],
      "metadata": {
        "colab": {
          "base_uri": "https://localhost:8080/"
        },
        "id": "z9Scicw1e6zo",
        "outputId": "c6255039-15c2-4322-fc7f-9b820faf5862"
      },
      "execution_count": null,
      "outputs": [
        {
          "output_type": "stream",
          "name": "stdout",
          "text": [
            "[['001', [537, 1, 544, 12]], ['005', [537, 42, 545, 52]], ['010', [534, 95, 546, 106]], ['015', [535, 150, 545, 160]], ['020', [534, 204, 546, 214]], ['025', [536, 257, 546, 267]], ['030', [535, 312, 545, 321]], ['035', [534, 364, 546, 377]], ['040', [534, 419, 546, 431]], ['045', [535, 473, 545, 483]], ['050', [535, 527, 545, 538]], ['055', [536, 580, 546, 590]], ['060', [535, 635, 545, 644]], ['065', [535, 688, 545, 698]], ['070', [536, 742, 545, 752]], ['075', [535, 797, 545, 806]], ['080', [536, 849, 546, 859]], ['085', [536, 904, 546, 913]], ['090', [535, 957, 545, 967]], ['095', [535, 1013, 545, 1023]], ['100', [536, 1067, 545, 1077]]]\n",
            "[['001', [533, 98, 547, 136]], ['005', [533, 138, 547, 178]], ['010', [532, 192, 548, 231]], ['015', [532, 246, 548, 285]], ['020', [533, 299, 548, 338]], ['025', [532, 352, 548, 390]], ['030', [532, 407, 548, 449]], ['035', [532, 460, 549, 503]], ['040', [531, 513, 549, 557]], ['045', [531, 568, 549, 611]], ['050', [532, 622, 549, 665]], ['055', [531, 676, 549, 718]], ['060', [531, 730, 549, 772]], ['065', [532, 784, 548, 826]], ['070', [532, 838, 549, 881]], ['075', [533, 893, 549, 934]], ['080', [533, 946, 548, 988]], ['085', [533, 1000, 549, 1042]], ['090', [532, 1054, 548, 1079]]]\n",
            "[['001', [524, 163, 556, 178]], ['005', [525, 206, 556, 224]], ['010', [523, 258, 559, 276]], ['015', [522, 313, 558, 332]], ['020', [523, 366, 559, 383]], ['025', [522, 421, 558, 439]], ['030', [522, 474, 558, 490]], ['035', [522, 528, 558, 544]], ['040', [522, 582, 558, 598]], ['045', [521, 636, 557, 652]], ['050', [522, 690, 557, 706]], ['055', [522, 744, 557, 760]], ['060', [522, 799, 558, 817]], ['065', [522, 853, 558, 869]], ['070', [522, 907, 558, 924]], ['075', [522, 961, 558, 977]], ['080', [523, 1015, 557, 1031]], ['085', [522, 1069, 558, 1080]]]\n",
            "[['001', [564, 538, 595, 549]], ['005', [565, 583, 596, 596]], ['010', [561, 633, 594, 646]], ['015', [562, 686, 595, 702]], ['020', [561, 739, 596, 756]], ['025', [560, 791, 598, 811]], ['030', [561, 846, 601, 864]], ['035', [559, 898, 598, 920]], ['040', [559, 951, 598, 973]], ['045', [560, 1004, 603, 1024]], ['050', [559, 1055, 592, 1078]]]\n"
          ]
        }
      ]
    },
    {
      "cell_type": "code",
      "source": [
        "def depth_median_mean(bbox):\n",
        "  start_index = '001'\n",
        "  depth_path = '/content/depth/0'\n",
        "  depth_fend = '_depth.npy'\n",
        "  size_bbox = len(bbox)\n",
        "\n",
        "  # code to load the depth image\n",
        "  dimg = np.load(depth_path + start_index + depth_fend)\n",
        "\n",
        "  depth_mean = np.zeros((size_bbox,1))\n",
        "  depth_median = np.zeros((size_bbox,1))\n",
        "\n",
        "  for i in range(size_bbox):\n",
        "      index = bbox[i][0]\n",
        "      dimg = np.load(depth_path + index + depth_fend)\n",
        "\n",
        "      i_coords = bbox[i][1]\n",
        "      depth_patch = dimg[i_coords[0]:i_coords[2],i_coords[1]:i_coords[3]]\n",
        "      # print(depth_patch)\n",
        "\n",
        "      depth_mean[i] = np.mean(depth_patch)\n",
        "      depth_median[i] = np.median(depth_patch)\n",
        "  return (depth_mean, depth_median)"
      ],
      "metadata": {
        "id": "wqQ2pfY2o7g1"
      },
      "execution_count": null,
      "outputs": []
    },
    {
      "cell_type": "code",
      "source": [
        "maxFrameCount = 20\n",
        "(pommel_mean, pommel_median) = depth_median_mean(pommel_bbox)\n",
        "(handle_mean, handle_median) = depth_median_mean(handle_bbox)\n",
        "(blade_mean, blade_median) = depth_median_mean(blade_bbox)\n",
        "(rock_mean, rock_median) = depth_median_mean(rock_bbox)\n",
        "\n",
        "# using max value\n",
        "normalizing_factor = [np.max(pommel_mean), np.max(handle_mean), np.max(blade_mean), np.max(rock_mean)]\n",
        "\n",
        "norm_pommel = [x/normalizing_factor[0] for x in pommel_mean]\n",
        "norm_handle = [x/normalizing_factor[1] for x in handle_mean]\n",
        "norm_blade = [x/normalizing_factor[2] for x in blade_mean]\n",
        "norm_rock = [x/normalizing_factor[3] for x in rock_mean]"
      ],
      "metadata": {
        "colab": {
          "base_uri": "https://localhost:8080/"
        },
        "id": "fTj8SCoOqq6h",
        "outputId": "1c5d0e6c-e765-4c6d-ddb0-c1be09554a4b"
      },
      "execution_count": null,
      "outputs": [
        {
          "output_type": "stream",
          "name": "stdout",
          "text": [
            "[[  4.        ]\n",
            " [  5.        ]\n",
            " [  9.        ]\n",
            " [ 11.        ]\n",
            " [ 12.        ]\n",
            " [ 12.        ]\n",
            " [ 11.        ]\n",
            " [ 10.        ]\n",
            " [ 10.        ]\n",
            " [ 20.49      ]\n",
            " [136.18181818]\n",
            " [ 46.03      ]\n",
            " [ 53.83333333]\n",
            " [ 63.7       ]\n",
            " [ 72.44444444]\n",
            " [ 80.87777778]\n",
            " [ 84.2       ]\n",
            " [ 88.6       ]\n",
            " [ 90.8       ]\n",
            " [ 93.5       ]\n",
            " [ 92.34444444]]\n",
            "[[49.91202346]\n",
            " [ 7.        ]\n",
            " [10.        ]\n",
            " [11.        ]\n",
            " [12.        ]\n",
            " [12.        ]\n",
            " [11.        ]\n",
            " [11.04312354]\n",
            " [21.16666667]\n",
            " [36.9627907 ]\n",
            " [46.45191041]]\n"
          ]
        }
      ]
    },
    {
      "cell_type": "code",
      "source": [
        "x = [0,1,2,3,4,5,6,7,8,9,10,11,12,13,14,15,16,17,18,19,20]\n",
        "for i in x:\n",
        "  x[i] *= 5\n",
        "\n",
        "plt.title(\"Frame vs. Depth\")\n",
        "plt.xlabel('Frame')\n",
        "plt.ylabel('Normalized Depth')\n",
        "\n",
        "# some color options - b,g,r,c,m,y,k\n",
        "plt.plot(x, norm_pommel, 'b')\n",
        "plt.plot(x[21 - len(norm_handle):], norm_handle, 'r')\n",
        "plt.plot(x[21 - len(norm_blade):], norm_blade, 'g')\n",
        "plt.plot(x[21 - len(norm_rock):], norm_rock, 'c')"
      ],
      "metadata": {
        "colab": {
          "base_uri": "https://localhost:8080/",
          "height": 490
        },
        "id": "Aqa7FWOz1Qhp",
        "outputId": "b9fafb70-2ba6-4685-9c05-b9faeb0b0696"
      },
      "execution_count": null,
      "outputs": [
        {
          "output_type": "execute_result",
          "data": {
            "text/plain": [
              "[<matplotlib.lines.Line2D at 0x7f3830c6f5e0>]"
            ]
          },
          "metadata": {},
          "execution_count": 100
        },
        {
          "output_type": "display_data",
          "data": {
            "text/plain": [
              "<Figure size 640x480 with 1 Axes>"
            ],
            "image/png": "[encoded data removed]"
          },
          "metadata": {}
        }
      ]
    },
    {
      "cell_type": "code",
      "source": [
        "def multiDimenDist(point1,point2):\n",
        "   #find the difference between the two points, its really the same as below\n",
        "   deltaVals = [point2[dimension]-point1[dimension] for dimension in range(len(point1))]\n",
        "   runningSquared = 0\n",
        "   #because the pythagarom theorm works for any dimension we can just use that\n",
        "   for coOrd in deltaVals:\n",
        "       runningSquared += coOrd**2\n",
        "   return runningSquared**(1/2)\n",
        "def findVec(point1,point2,unitSphere = False):\n",
        "  #setting unitSphere to True will make the vector scaled down to a sphere with a radius one, instead of it's orginal length\n",
        "  finalVector = [0 for coOrd in point1]\n",
        "  for dimension, coOrd in enumerate(point1):\n",
        "      #finding total differnce for that co-ordinate(x,y,z...)\n",
        "      deltaCoOrd = point2[dimension]-coOrd\n",
        "      #adding total difference\n",
        "      finalVector[dimension] = deltaCoOrd\n",
        "  if unitSphere:\n",
        "      totalDist = multiDimenDist(point1,point2)\n",
        "      unitVector =[]\n",
        "      for dimen in finalVector:\n",
        "          unitVector.append( dimen/totalDist)\n",
        "      return unitVector\n",
        "  else:\n",
        "      return finalVector"
      ],
      "metadata": {
        "id": "skzPdKLOm2j5"
      },
      "execution_count": null,
      "outputs": []
    },
    {
      "cell_type": "code",
      "source": [
        "\n",
        "findVec([0,0,0], [1,2,3])"
      ],
      "metadata": {
        "colab": {
          "base_uri": "https://localhost:8080/"
        },
        "id": "CSN7Bqmzm4Qf",
        "outputId": "a3639bb4-ebb9-4918-8b85-f2ebe130ec13"
      },
      "execution_count": null,
      "outputs": [
        {
          "output_type": "execute_result",
          "data": {
            "text/plain": [
              "[1, 2, 3]"
            ]
          },
          "metadata": {},
          "execution_count": 102
        }
      ]
    }
  ]
}